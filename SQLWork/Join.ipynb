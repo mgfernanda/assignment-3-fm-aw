{
 "cells": [
  {
   "cell_type": "code",
   "execution_count": 10,
   "id": "55a0f76d",
   "metadata": {},
   "outputs": [
    {
     "name": "stdout",
     "output_type": "stream",
     "text": [
      "The sql extension is already loaded. To reload it, use:\n",
      "  %reload_ext sql\n"
     ]
    }
   ],
   "source": [
    "%load_ext sql\n",
    "%sql postgresql://isdb@localhost/postgres"
   ]
  },
  {
   "cell_type": "code",
   "execution_count": 11,
   "id": "68cc9041",
   "metadata": {},
   "outputs": [],
   "source": [
    "import pandas as pd\n",
    "import psycopg2 as pg2\n",
    "con = pg2.connect(database='postgres', user='isdb')\n",
    "con.autocommit = True\n",
    "cur = con.cursor()\n",
    "sql_query = pd.read_sql_query(\n",
    "    '''\n",
    "SELECT *\n",
    " FROM vgsales\n",
    " INNER JOIN temp ON vgsales.Genre = temp.Genre AND vgsales.Year = temp.year;'''\n",
    "                              ,con) # here, the 'conn' is the variable that contains your database connection information from step 2\n",
    "\n",
    "df = pd.DataFrame(sql_query)\n",
    "df.to_csv ('joinedTable.csv', index = False) # place 'r' before the path name"
   ]
  },
  {
   "cell_type": "code",
   "execution_count": null,
   "id": "dc543a9a",
   "metadata": {},
   "outputs": [],
   "source": []
  }
 ],
 "metadata": {
  "kernelspec": {
   "display_name": "Python 3 (ipykernel)",
   "language": "python",
   "name": "python3"
  },
  "language_info": {
   "codemirror_mode": {
    "name": "ipython",
    "version": 3
   },
   "file_extension": ".py",
   "mimetype": "text/x-python",
   "name": "python",
   "nbconvert_exporter": "python",
   "pygments_lexer": "ipython3",
   "version": "3.8.10"
  }
 },
 "nbformat": 4,
 "nbformat_minor": 5
}
